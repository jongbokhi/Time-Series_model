{
  "nbformat": 4,
  "nbformat_minor": 0,
  "metadata": {
    "colab": {
      "provenance": [],
      "authorship_tag": "ABX9TyP0L7RIfCBqB3d13uzykd4A",
      "include_colab_link": true
    },
    "kernelspec": {
      "name": "python3",
      "display_name": "Python 3"
    },
    "language_info": {
      "name": "python"
    }
  },
  "cells": [
    {
      "cell_type": "markdown",
      "metadata": {
        "id": "view-in-github",
        "colab_type": "text"
      },
      "source": [
        "<a href=\"https://colab.research.google.com/github/jongbokhi/Time-Series_model/blob/master/prediction_exchange_rate.ipynb\" target=\"_parent\"><img src=\"https://colab.research.google.com/assets/colab-badge.svg\" alt=\"Open In Colab\"/></a>"
      ]
    },
    {
      "cell_type": "code",
      "source": [
        "import pandas as pd\n",
        "import numpy as np\n",
        "import seaborn as sns\n",
        "import datetime\n",
        "import yfinance as yf\n",
        "from fredapi import Fred\n",
        "\n",
        "import pandas_datareader as pdr"
      ],
      "metadata": {
        "id": "1c9N6IsUlx5F"
      },
      "execution_count": 180,
      "outputs": []
    },
    {
      "cell_type": "code",
      "source": [
        "fred_key = '88470199715d373130aa3fb38170ed0c'\n",
        "fred = Fred(api_key=fred_key)"
      ],
      "metadata": {
        "id": "7zxwWxzDrlOm"
      },
      "execution_count": 181,
      "outputs": []
    },
    {
      "cell_type": "code",
      "source": [
        "### Prepare for Dataset\n",
        " ## Source: FRED ECONOMIC DATA, YAHOO FINANCE \n",
        " ## TIME PERIOD: [2010-7-1 ~ 2023-3-1]"
      ],
      "metadata": {
        "id": "Gd5NOVNuKDPT"
      },
      "execution_count": null,
      "outputs": []
    },
    {
      "cell_type": "code",
      "source": [
        "if __name__ == '__main__':\n",
        "    #  Set start date\n",
        "    start_date = datetime.date(2010, 7, 1)\n",
        "    start_date_str = datetime.datetime.strftime(start_date, \"%Y-%m-%d\")\n",
        "\n",
        "    #  Federal Reserve Economic Data Service\n",
        "    data_source1 = 'fred'\n",
        "    data_source2 = 'yf'\n",
        "    usd_kwon = 'DEXKOUS'\n",
        "    federal_funds_effective_rate = 'FEDFUNDS'\n",
        "    global_price_brent_crude_oil= 'POILBREUSDM'\n",
        "    global_price_of_wti_crude_oil = 'POILWTIUSDM'\n",
        "    nasdaq100_Index = 'NASDAQ100'\n",
        "\n",
        "\n",
        "    #  Fetch data from FED \n",
        "    usd_kwon_df = pdr.DataReader(usd_kwon, data_source1, start = start_date, end='2023 - 03 - 01')\n",
        "    effective_rate_df = pdr.DataReader(federal_funds_effective_rate, data_source1, start = start_date, end='2023 - 03 - 01')\n",
        "    wti_crude_oil_df = pdr.DataReader(global_price_brent_crude_oil, data_source1, start = start_date, end='2023 - 03 - 01')\n",
        "    crude_oil_df = pdr.DataReader(global_price_of_wti_crude_oil, data_source1, start = start_date, end='2023 - 03 - 01')\n",
        "    \n",
        "    "
      ],
      "metadata": {
        "id": "W6sduJwSsE_l"
      },
      "execution_count": 182,
      "outputs": []
    },
    {
      "cell_type": "code",
      "source": [
        "#load data from Yahoo Finance\n",
        "\n",
        "tesla = yf.Ticker(\"TSLA\")\n",
        "\n",
        "# get historical market data\n",
        "hist = tesla.history(start= '2010-07-01', end= '2023-03-02')\n",
        "hist.head()"
      ],
      "metadata": {
        "colab": {
          "base_uri": "https://localhost:8080/",
          "height": 237
        },
        "id": "WHxnbNreEzWc",
        "outputId": "a39f0bfa-1639-46a5-caae-0df185d947d0"
      },
      "execution_count": 183,
      "outputs": [
        {
          "output_type": "execute_result",
          "data": {
            "text/plain": [
              "                               Open      High       Low     Close     Volume  \\\n",
              "Date                                                                           \n",
              "2010-07-01 00:00:00-04:00  1.666667  1.728000  1.351333  1.464000  123282000   \n",
              "2010-07-02 00:00:00-04:00  1.533333  1.540000  1.247333  1.280000   77097000   \n",
              "2010-07-06 00:00:00-04:00  1.333333  1.333333  1.055333  1.074000  103003500   \n",
              "2010-07-07 00:00:00-04:00  1.093333  1.108667  0.998667  1.053333  103825500   \n",
              "2010-07-08 00:00:00-04:00  1.076000  1.168000  1.038000  1.164000  115671000   \n",
              "\n",
              "                           Dividends  Stock Splits  \n",
              "Date                                                \n",
              "2010-07-01 00:00:00-04:00        0.0           0.0  \n",
              "2010-07-02 00:00:00-04:00        0.0           0.0  \n",
              "2010-07-06 00:00:00-04:00        0.0           0.0  \n",
              "2010-07-07 00:00:00-04:00        0.0           0.0  \n",
              "2010-07-08 00:00:00-04:00        0.0           0.0  "
            ],
            "text/html": [
              "\n",
              "  <div id=\"df-3c814578-5f91-4f33-bdb6-b1ac6ac7056e\">\n",
              "    <div class=\"colab-df-container\">\n",
              "      <div>\n",
              "<style scoped>\n",
              "    .dataframe tbody tr th:only-of-type {\n",
              "        vertical-align: middle;\n",
              "    }\n",
              "\n",
              "    .dataframe tbody tr th {\n",
              "        vertical-align: top;\n",
              "    }\n",
              "\n",
              "    .dataframe thead th {\n",
              "        text-align: right;\n",
              "    }\n",
              "</style>\n",
              "<table border=\"1\" class=\"dataframe\">\n",
              "  <thead>\n",
              "    <tr style=\"text-align: right;\">\n",
              "      <th></th>\n",
              "      <th>Open</th>\n",
              "      <th>High</th>\n",
              "      <th>Low</th>\n",
              "      <th>Close</th>\n",
              "      <th>Volume</th>\n",
              "      <th>Dividends</th>\n",
              "      <th>Stock Splits</th>\n",
              "    </tr>\n",
              "    <tr>\n",
              "      <th>Date</th>\n",
              "      <th></th>\n",
              "      <th></th>\n",
              "      <th></th>\n",
              "      <th></th>\n",
              "      <th></th>\n",
              "      <th></th>\n",
              "      <th></th>\n",
              "    </tr>\n",
              "  </thead>\n",
              "  <tbody>\n",
              "    <tr>\n",
              "      <th>2010-07-01 00:00:00-04:00</th>\n",
              "      <td>1.666667</td>\n",
              "      <td>1.728000</td>\n",
              "      <td>1.351333</td>\n",
              "      <td>1.464000</td>\n",
              "      <td>123282000</td>\n",
              "      <td>0.0</td>\n",
              "      <td>0.0</td>\n",
              "    </tr>\n",
              "    <tr>\n",
              "      <th>2010-07-02 00:00:00-04:00</th>\n",
              "      <td>1.533333</td>\n",
              "      <td>1.540000</td>\n",
              "      <td>1.247333</td>\n",
              "      <td>1.280000</td>\n",
              "      <td>77097000</td>\n",
              "      <td>0.0</td>\n",
              "      <td>0.0</td>\n",
              "    </tr>\n",
              "    <tr>\n",
              "      <th>2010-07-06 00:00:00-04:00</th>\n",
              "      <td>1.333333</td>\n",
              "      <td>1.333333</td>\n",
              "      <td>1.055333</td>\n",
              "      <td>1.074000</td>\n",
              "      <td>103003500</td>\n",
              "      <td>0.0</td>\n",
              "      <td>0.0</td>\n",
              "    </tr>\n",
              "    <tr>\n",
              "      <th>2010-07-07 00:00:00-04:00</th>\n",
              "      <td>1.093333</td>\n",
              "      <td>1.108667</td>\n",
              "      <td>0.998667</td>\n",
              "      <td>1.053333</td>\n",
              "      <td>103825500</td>\n",
              "      <td>0.0</td>\n",
              "      <td>0.0</td>\n",
              "    </tr>\n",
              "    <tr>\n",
              "      <th>2010-07-08 00:00:00-04:00</th>\n",
              "      <td>1.076000</td>\n",
              "      <td>1.168000</td>\n",
              "      <td>1.038000</td>\n",
              "      <td>1.164000</td>\n",
              "      <td>115671000</td>\n",
              "      <td>0.0</td>\n",
              "      <td>0.0</td>\n",
              "    </tr>\n",
              "  </tbody>\n",
              "</table>\n",
              "</div>\n",
              "      <button class=\"colab-df-convert\" onclick=\"convertToInteractive('df-3c814578-5f91-4f33-bdb6-b1ac6ac7056e')\"\n",
              "              title=\"Convert this dataframe to an interactive table.\"\n",
              "              style=\"display:none;\">\n",
              "        \n",
              "  <svg xmlns=\"http://www.w3.org/2000/svg\" height=\"24px\"viewBox=\"0 0 24 24\"\n",
              "       width=\"24px\">\n",
              "    <path d=\"M0 0h24v24H0V0z\" fill=\"none\"/>\n",
              "    <path d=\"M18.56 5.44l.94 2.06.94-2.06 2.06-.94-2.06-.94-.94-2.06-.94 2.06-2.06.94zm-11 1L8.5 8.5l.94-2.06 2.06-.94-2.06-.94L8.5 2.5l-.94 2.06-2.06.94zm10 10l.94 2.06.94-2.06 2.06-.94-2.06-.94-.94-2.06-.94 2.06-2.06.94z\"/><path d=\"M17.41 7.96l-1.37-1.37c-.4-.4-.92-.59-1.43-.59-.52 0-1.04.2-1.43.59L10.3 9.45l-7.72 7.72c-.78.78-.78 2.05 0 2.83L4 21.41c.39.39.9.59 1.41.59.51 0 1.02-.2 1.41-.59l7.78-7.78 2.81-2.81c.8-.78.8-2.07 0-2.86zM5.41 20L4 18.59l7.72-7.72 1.47 1.35L5.41 20z\"/>\n",
              "  </svg>\n",
              "      </button>\n",
              "      \n",
              "  <style>\n",
              "    .colab-df-container {\n",
              "      display:flex;\n",
              "      flex-wrap:wrap;\n",
              "      gap: 12px;\n",
              "    }\n",
              "\n",
              "    .colab-df-convert {\n",
              "      background-color: #E8F0FE;\n",
              "      border: none;\n",
              "      border-radius: 50%;\n",
              "      cursor: pointer;\n",
              "      display: none;\n",
              "      fill: #1967D2;\n",
              "      height: 32px;\n",
              "      padding: 0 0 0 0;\n",
              "      width: 32px;\n",
              "    }\n",
              "\n",
              "    .colab-df-convert:hover {\n",
              "      background-color: #E2EBFA;\n",
              "      box-shadow: 0px 1px 2px rgba(60, 64, 67, 0.3), 0px 1px 3px 1px rgba(60, 64, 67, 0.15);\n",
              "      fill: #174EA6;\n",
              "    }\n",
              "\n",
              "    [theme=dark] .colab-df-convert {\n",
              "      background-color: #3B4455;\n",
              "      fill: #D2E3FC;\n",
              "    }\n",
              "\n",
              "    [theme=dark] .colab-df-convert:hover {\n",
              "      background-color: #434B5C;\n",
              "      box-shadow: 0px 1px 3px 1px rgba(0, 0, 0, 0.15);\n",
              "      filter: drop-shadow(0px 1px 2px rgba(0, 0, 0, 0.3));\n",
              "      fill: #FFFFFF;\n",
              "    }\n",
              "  </style>\n",
              "\n",
              "      <script>\n",
              "        const buttonEl =\n",
              "          document.querySelector('#df-3c814578-5f91-4f33-bdb6-b1ac6ac7056e button.colab-df-convert');\n",
              "        buttonEl.style.display =\n",
              "          google.colab.kernel.accessAllowed ? 'block' : 'none';\n",
              "\n",
              "        async function convertToInteractive(key) {\n",
              "          const element = document.querySelector('#df-3c814578-5f91-4f33-bdb6-b1ac6ac7056e');\n",
              "          const dataTable =\n",
              "            await google.colab.kernel.invokeFunction('convertToInteractive',\n",
              "                                                     [key], {});\n",
              "          if (!dataTable) return;\n",
              "\n",
              "          const docLinkHtml = 'Like what you see? Visit the ' +\n",
              "            '<a target=\"_blank\" href=https://colab.research.google.com/notebooks/data_table.ipynb>data table notebook</a>'\n",
              "            + ' to learn more about interactive tables.';\n",
              "          element.innerHTML = '';\n",
              "          dataTable['output_type'] = 'display_data';\n",
              "          await google.colab.output.renderOutput(dataTable, element);\n",
              "          const docLink = document.createElement('div');\n",
              "          docLink.innerHTML = docLinkHtml;\n",
              "          element.appendChild(docLink);\n",
              "        }\n",
              "      </script>\n",
              "    </div>\n",
              "  </div>\n",
              "  "
            ]
          },
          "metadata": {},
          "execution_count": 183
        }
      ]
    },
    {
      "cell_type": "code",
      "source": [
        "tesla_open = hist['Open']\n",
        "tesla_open.head(5)"
      ],
      "metadata": {
        "colab": {
          "base_uri": "https://localhost:8080/"
        },
        "id": "74f4TJ94FisK",
        "outputId": "9efa0e6a-48ad-4f45-ce8c-78e44915182a"
      },
      "execution_count": 184,
      "outputs": [
        {
          "output_type": "execute_result",
          "data": {
            "text/plain": [
              "Date\n",
              "2010-07-01 00:00:00-04:00    1.666667\n",
              "2010-07-02 00:00:00-04:00    1.533333\n",
              "2010-07-06 00:00:00-04:00    1.333333\n",
              "2010-07-07 00:00:00-04:00    1.093333\n",
              "2010-07-08 00:00:00-04:00    1.076000\n",
              "Name: Open, dtype: float64"
            ]
          },
          "metadata": {},
          "execution_count": 184
        }
      ]
    },
    {
      "cell_type": "code",
      "source": [
        "# unifiy timezone of timeindex for merging dataframes\n",
        "\n",
        "tesla_open.index = tesla_open.index.tz_localize(None)"
      ],
      "metadata": {
        "id": "iEt1iCc_F5Hp"
      },
      "execution_count": 185,
      "outputs": []
    },
    {
      "cell_type": "code",
      "source": [
        "#change the name of timeindex\n",
        "tesla_open = tesla_open.rename_axis('DATE')\n",
        "tesla_open.tail()"
      ],
      "metadata": {
        "colab": {
          "base_uri": "https://localhost:8080/"
        },
        "id": "JVTXWeRhHJSR",
        "outputId": "19380c9e-9dc5-4088-f829-dd595a5a26a7"
      },
      "execution_count": 186,
      "outputs": [
        {
          "output_type": "execute_result",
          "data": {
            "text/plain": [
              "DATE\n",
              "2023-02-23    203.910004\n",
              "2023-02-24    196.330002\n",
              "2023-02-27    202.029999\n",
              "2023-02-28    210.589996\n",
              "2023-03-01    206.210007\n",
              "Name: Open, dtype: float64"
            ]
          },
          "metadata": {},
          "execution_count": 186
        }
      ]
    },
    {
      "cell_type": "code",
      "source": [
        "# Merge data frames\n",
        "merged_df = pd.merge(effective_rate_df, usd_kwon_df, on='DATE', how='left')\n",
        "\n",
        "merged_df = pd.merge(merged_df, wti_crude_oil_df, on='DATE', how='left')\n",
        "\n",
        "merged_df = pd.merge(merged_df, crude_oil_df, on='DATE', how='left')\n",
        "\n",
        "merged_df = pd.merge(merged_df, tesla_open, on='DATE', how='left')"
      ],
      "metadata": {
        "id": "vOwzFJ5ftRhy"
      },
      "execution_count": 187,
      "outputs": []
    },
    {
      "cell_type": "code",
      "source": [
        "# change column name in merged dataframe\n",
        "\n",
        "df = merged_df.rename(columns={'FEDFUNDS': 'effective_rate', 'DEXKOUS': 'usd_kwon', 'POILBREUSDM': 'brent_crude_oil', 'POILWTIUSDM' :'wti_crude_oil', 'Open' : 'tesla_open_price' })\n",
        "\n",
        "df.tail()"
      ],
      "metadata": {
        "colab": {
          "base_uri": "https://localhost:8080/",
          "height": 237
        },
        "id": "KGOlj5i7F4UF",
        "outputId": "0527cf45-9961-449a-f456-e9cfb48728c6"
      },
      "execution_count": 188,
      "outputs": [
        {
          "output_type": "execute_result",
          "data": {
            "text/plain": [
              "            effective_rate  usd_kwon  brent_crude_oil  wti_crude_oil  \\\n",
              "DATE                                                                   \n",
              "2022-11-01            3.78   1416.20        90.938636      84.076364   \n",
              "2022-12-01            4.10   1299.11        81.503182      76.581818   \n",
              "2023-01-01            4.33       NaN        84.081818      78.251364   \n",
              "2023-02-01            4.57   1231.77        83.632500      77.027500   \n",
              "2023-03-01            4.65   1315.15        79.256522      73.348261   \n",
              "\n",
              "            tesla_open_price  \n",
              "DATE                          \n",
              "2022-11-01        234.050003  \n",
              "2022-12-01        197.080002  \n",
              "2023-01-01               NaN  \n",
              "2023-02-01        173.889999  \n",
              "2023-03-01        206.210007  "
            ],
            "text/html": [
              "\n",
              "  <div id=\"df-aad0b973-b538-44b5-bea4-5acb8da93861\">\n",
              "    <div class=\"colab-df-container\">\n",
              "      <div>\n",
              "<style scoped>\n",
              "    .dataframe tbody tr th:only-of-type {\n",
              "        vertical-align: middle;\n",
              "    }\n",
              "\n",
              "    .dataframe tbody tr th {\n",
              "        vertical-align: top;\n",
              "    }\n",
              "\n",
              "    .dataframe thead th {\n",
              "        text-align: right;\n",
              "    }\n",
              "</style>\n",
              "<table border=\"1\" class=\"dataframe\">\n",
              "  <thead>\n",
              "    <tr style=\"text-align: right;\">\n",
              "      <th></th>\n",
              "      <th>effective_rate</th>\n",
              "      <th>usd_kwon</th>\n",
              "      <th>brent_crude_oil</th>\n",
              "      <th>wti_crude_oil</th>\n",
              "      <th>tesla_open_price</th>\n",
              "    </tr>\n",
              "    <tr>\n",
              "      <th>DATE</th>\n",
              "      <th></th>\n",
              "      <th></th>\n",
              "      <th></th>\n",
              "      <th></th>\n",
              "      <th></th>\n",
              "    </tr>\n",
              "  </thead>\n",
              "  <tbody>\n",
              "    <tr>\n",
              "      <th>2022-11-01</th>\n",
              "      <td>3.78</td>\n",
              "      <td>1416.20</td>\n",
              "      <td>90.938636</td>\n",
              "      <td>84.076364</td>\n",
              "      <td>234.050003</td>\n",
              "    </tr>\n",
              "    <tr>\n",
              "      <th>2022-12-01</th>\n",
              "      <td>4.10</td>\n",
              "      <td>1299.11</td>\n",
              "      <td>81.503182</td>\n",
              "      <td>76.581818</td>\n",
              "      <td>197.080002</td>\n",
              "    </tr>\n",
              "    <tr>\n",
              "      <th>2023-01-01</th>\n",
              "      <td>4.33</td>\n",
              "      <td>NaN</td>\n",
              "      <td>84.081818</td>\n",
              "      <td>78.251364</td>\n",
              "      <td>NaN</td>\n",
              "    </tr>\n",
              "    <tr>\n",
              "      <th>2023-02-01</th>\n",
              "      <td>4.57</td>\n",
              "      <td>1231.77</td>\n",
              "      <td>83.632500</td>\n",
              "      <td>77.027500</td>\n",
              "      <td>173.889999</td>\n",
              "    </tr>\n",
              "    <tr>\n",
              "      <th>2023-03-01</th>\n",
              "      <td>4.65</td>\n",
              "      <td>1315.15</td>\n",
              "      <td>79.256522</td>\n",
              "      <td>73.348261</td>\n",
              "      <td>206.210007</td>\n",
              "    </tr>\n",
              "  </tbody>\n",
              "</table>\n",
              "</div>\n",
              "      <button class=\"colab-df-convert\" onclick=\"convertToInteractive('df-aad0b973-b538-44b5-bea4-5acb8da93861')\"\n",
              "              title=\"Convert this dataframe to an interactive table.\"\n",
              "              style=\"display:none;\">\n",
              "        \n",
              "  <svg xmlns=\"http://www.w3.org/2000/svg\" height=\"24px\"viewBox=\"0 0 24 24\"\n",
              "       width=\"24px\">\n",
              "    <path d=\"M0 0h24v24H0V0z\" fill=\"none\"/>\n",
              "    <path d=\"M18.56 5.44l.94 2.06.94-2.06 2.06-.94-2.06-.94-.94-2.06-.94 2.06-2.06.94zm-11 1L8.5 8.5l.94-2.06 2.06-.94-2.06-.94L8.5 2.5l-.94 2.06-2.06.94zm10 10l.94 2.06.94-2.06 2.06-.94-2.06-.94-.94-2.06-.94 2.06-2.06.94z\"/><path d=\"M17.41 7.96l-1.37-1.37c-.4-.4-.92-.59-1.43-.59-.52 0-1.04.2-1.43.59L10.3 9.45l-7.72 7.72c-.78.78-.78 2.05 0 2.83L4 21.41c.39.39.9.59 1.41.59.51 0 1.02-.2 1.41-.59l7.78-7.78 2.81-2.81c.8-.78.8-2.07 0-2.86zM5.41 20L4 18.59l7.72-7.72 1.47 1.35L5.41 20z\"/>\n",
              "  </svg>\n",
              "      </button>\n",
              "      \n",
              "  <style>\n",
              "    .colab-df-container {\n",
              "      display:flex;\n",
              "      flex-wrap:wrap;\n",
              "      gap: 12px;\n",
              "    }\n",
              "\n",
              "    .colab-df-convert {\n",
              "      background-color: #E8F0FE;\n",
              "      border: none;\n",
              "      border-radius: 50%;\n",
              "      cursor: pointer;\n",
              "      display: none;\n",
              "      fill: #1967D2;\n",
              "      height: 32px;\n",
              "      padding: 0 0 0 0;\n",
              "      width: 32px;\n",
              "    }\n",
              "\n",
              "    .colab-df-convert:hover {\n",
              "      background-color: #E2EBFA;\n",
              "      box-shadow: 0px 1px 2px rgba(60, 64, 67, 0.3), 0px 1px 3px 1px rgba(60, 64, 67, 0.15);\n",
              "      fill: #174EA6;\n",
              "    }\n",
              "\n",
              "    [theme=dark] .colab-df-convert {\n",
              "      background-color: #3B4455;\n",
              "      fill: #D2E3FC;\n",
              "    }\n",
              "\n",
              "    [theme=dark] .colab-df-convert:hover {\n",
              "      background-color: #434B5C;\n",
              "      box-shadow: 0px 1px 3px 1px rgba(0, 0, 0, 0.15);\n",
              "      filter: drop-shadow(0px 1px 2px rgba(0, 0, 0, 0.3));\n",
              "      fill: #FFFFFF;\n",
              "    }\n",
              "  </style>\n",
              "\n",
              "      <script>\n",
              "        const buttonEl =\n",
              "          document.querySelector('#df-aad0b973-b538-44b5-bea4-5acb8da93861 button.colab-df-convert');\n",
              "        buttonEl.style.display =\n",
              "          google.colab.kernel.accessAllowed ? 'block' : 'none';\n",
              "\n",
              "        async function convertToInteractive(key) {\n",
              "          const element = document.querySelector('#df-aad0b973-b538-44b5-bea4-5acb8da93861');\n",
              "          const dataTable =\n",
              "            await google.colab.kernel.invokeFunction('convertToInteractive',\n",
              "                                                     [key], {});\n",
              "          if (!dataTable) return;\n",
              "\n",
              "          const docLinkHtml = 'Like what you see? Visit the ' +\n",
              "            '<a target=\"_blank\" href=https://colab.research.google.com/notebooks/data_table.ipynb>data table notebook</a>'\n",
              "            + ' to learn more about interactive tables.';\n",
              "          element.innerHTML = '';\n",
              "          dataTable['output_type'] = 'display_data';\n",
              "          await google.colab.output.renderOutput(dataTable, element);\n",
              "          const docLink = document.createElement('div');\n",
              "          docLink.innerHTML = docLinkHtml;\n",
              "          element.appendChild(docLink);\n",
              "        }\n",
              "      </script>\n",
              "    </div>\n",
              "  </div>\n",
              "  "
            ]
          },
          "metadata": {},
          "execution_count": 188
        }
      ]
    },
    {
      "cell_type": "code",
      "source": [
        "### Target Variable : usd_kwon (USD/KRW)\n",
        "### predictors: effective_rate, brent_crude_oil, wti_crude_oil, tesla_open_price"
      ],
      "metadata": {
        "id": "Qod8sgB04WYd"
      },
      "execution_count": 189,
      "outputs": []
    },
    {
      "cell_type": "code",
      "source": [],
      "metadata": {
        "id": "F8JmiDfFKxtn"
      },
      "execution_count": null,
      "outputs": []
    }
  ]
}