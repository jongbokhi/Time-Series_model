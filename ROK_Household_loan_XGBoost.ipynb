{
 "cells": [
  {
   "cell_type": "code",
   "execution_count": 248,
   "id": "33299735-6310-4d03-a89c-ef36d1a86eb2",
   "metadata": {},
   "outputs": [],
   "source": [
    "import pandas as pd\n",
    "import numpy as np\n",
    "from matplotlib import pyplot\n",
    "import seaborn as sns\n",
    "\n",
    "from xgboost import XGBRegressor\n",
    "from sklearn.metrics import mean_squared_error\n",
    "from sklearn.metrics import mean_absolute_error"
   ]
  },
  {
   "cell_type": "code",
   "execution_count": 249,
   "id": "8e05d7a1-8bae-44a1-bcbe-f3d094a77782",
   "metadata": {},
   "outputs": [
    {
     "data": {
      "text/plain": [
       "Index(['household_loan', 'loan interest rate'], dtype='object')"
      ]
     },
     "execution_count": 249,
     "metadata": {},
     "output_type": "execute_result"
    }
   ],
   "source": [
    "##Data load\n",
    "\n",
    "df = pd.read_csv(\n",
    "  \"household loan.csv\",\n",
    "  parse_dates=['date'],\n",
    "  index_col=\"date\"\n",
    ")\n",
    "\n",
    "df.columns"
   ]
  },
  {
   "cell_type": "code",
   "execution_count": 250,
   "id": "ebc95b69-ab80-42a7-81d5-95aadd0f7492",
   "metadata": {},
   "outputs": [],
   "source": [
    "#Preprocessing dataset\n",
    "\n",
    "index_list = df.index.tolist()\n",
    "df = pd.DataFrame(data=df, index=index_list, columns=df.columns)\n",
    "\n",
    "# convert index to datetime index\n",
    "df.index = pd.to_datetime(df.index.str.replace('/Q', '-'), format='%Y-%m')\n",
    "\n",
    "# replace commas in string column with an empty string\n",
    "df['household_loan'] = df['household_loan'].str.replace(',', '')\n",
    "\n",
    "# convert the column to float type\n",
    "df['household_loan'] = df['household_loan'].astype(float)"
   ]
  },
  {
   "cell_type": "code",
   "execution_count": 251,
   "id": "b5d64cb3-4e51-454e-ab9f-7c664827ea60",
   "metadata": {},
   "outputs": [],
   "source": [
    "def series_to_supervised(data, n_in=12, n_out=1, dropnan=True):\n",
    "    n_vars = 1 if type(data) is list else data.shape[1]\n",
    "    df = pd.DataFrame(data)\n",
    "    cols = list()\n",
    "    # input sequence (t-n, ... t-1)\n",
    "    for i in range(n_in, 0, -1):\n",
    "        cols.append(df.shift(i))\n",
    "    # forecast sequence (t, t+1, ... t+n)\n",
    "    for i in range(0, n_out):\n",
    "        cols.append(df.shift(-i))\n",
    "    # put it all together\n",
    "    agg = pd.concat(cols, axis=1)\n",
    "    # drop rows with NaN values\n",
    "    if dropnan:\n",
    "        agg.dropna(inplace=True)\n",
    "    return agg.values\n"
   ]
  },
  {
   "cell_type": "code",
   "execution_count": 252,
   "id": "7437b059-75fc-48ab-b388-cf5ebbfd6b39",
   "metadata": {},
   "outputs": [],
   "source": [
    "# fit an xgboost model and make a one step prediction\n",
    "def xgboost_forecast(train, testX):\n",
    "    \n",
    "     # transform list into array\n",
    "    train = np.array(train)\n",
    "    # split into input and output columns\n",
    "    trainX, trainy = train[:, 1:], train[:, 0]\n",
    "\n",
    "    # fit model\n",
    "    model = XGBRegressor(objective='reg:squarederror', n_estimators=1000)\n",
    "    model.fit(trainX, trainy)\n",
    "    # make a one-step prediction\n",
    "    yhat = model.predict(testX.reshape(1, -1))\n",
    "    return yhat[0]"
   ]
  },
  {
   "cell_type": "code",
   "execution_count": 253,
   "id": "5603a951-a4f0-4dec-8b8e-6a20ecd96f4b",
   "metadata": {},
   "outputs": [],
   "source": [
    "\n",
    "def walk_forward_validation(data, n_test, eval_set_size=4):\n",
    "    \n",
    "    train_size = len(data) - n_test - eval_set_size\n",
    "    train, test = data[:train_size, :], data[train_size:(train_size+n_test), :]\n",
    "    eval_set = train[-eval_set_size:, :]\n",
    "    train = train[:-eval_set_size, :]\n",
    "    \n",
    "    # seed history with training dataset\n",
    "    history = [x for x in train]\n",
    "    \n",
    "    # make predictions on evaluation set\n",
    "    eval_predictions = []\n",
    "    eval_actuals = []\n",
    "    eval_mae=[]\n",
    "    eval_mse=[]\n",
    "    \n",
    "    for i in range(len(eval_set)):\n",
    "        evalX, evaly = eval_set[i, 1:], eval_set[i, 0]\n",
    "        eval_yhat = xgboost_forecast(history, evalX)\n",
    "        eval_predictions.append(eval_yhat)\n",
    "        eval_actuals.append(evaly)\n",
    "        \n",
    "        # summarize progress\n",
    "        print('>eval_expected=%.1f, eval_predicted=%.1f' % (evaly, eval_yhat))\n",
    "        \n",
    "        eval_mae.append(mean_absolute_error(eval_actuals, eval_predictions))\n",
    "        eval_mse.append(mean_squared_error(eval_actuals, eval_predictions))\n",
    "    \n",
    "    \n",
    "    predictions = []\n",
    "    actuals = []\n",
    "    test_mse=[]\n",
    "    test_mae=[]\n",
    "    \n",
    "    # step over each time-step in the test set\n",
    "    for i in range(len(test)):\n",
    "        # split test row into input and output columns\n",
    "        testX, testy = test[i, 1:], test[i, 0]\n",
    "        # fit model on history and make a prediction\n",
    "        yhat = xgboost_forecast(history, testX)\n",
    "        # store forecast in list of predictions\n",
    "        predictions.append(yhat)\n",
    "        actuals.append(testy)\n",
    "        # add actual observation to history for the next loop\n",
    "        history.append(test[i])\n",
    "        \n",
    "        # summarize progress\n",
    "        print('>expected=%.1f, predicted=%.1f' % (testy, yhat))\n",
    "        \n",
    "        # estimate prediction error\n",
    "        test_mse.append(mean_squared_error(actuals, predictions))\n",
    "        test_mae.append(mean_absolute_error(actuals, predictions)) \n",
    "        \n",
    "    return test_mse, test_mae, actuals, predictions, eval_mae, eval_mse, eval_actuals, eval_predictions\n"
   ]
  },
  {
   "cell_type": "code",
   "execution_count": 254,
   "id": "1b708848-0d1a-4790-bad7-1e09831b0b14",
   "metadata": {},
   "outputs": [
    {
     "name": "stdout",
     "output_type": "stream",
     "text": [
      ">eval_expected=1158.5, eval_predicted=1137.9\n",
      ">eval_expected=1191.6, eval_predicted=1137.9\n",
      ">eval_expected=1228.6, eval_predicted=1137.9\n",
      ">eval_expected=1269.8, eval_predicted=1137.9\n",
      ">expected=1286.0, predicted=1105.3\n",
      ">expected=1312.8, predicted=1255.7\n",
      ">expected=1341.1, predicted=1312.8\n",
      ">expected=1369.8, predicted=1341.1\n",
      ">expected=1387.1, predicted=1369.8\n",
      ">expected=1409.2, predicted=1387.1\n",
      ">expected=1427.2, predicted=1397.7\n",
      ">expected=1446.6, predicted=1427.2\n",
      "Test MSE: 12089.309\n",
      "Test MAE: 84.984\n",
      "Evaluation MSE: 3284.002\n",
      "Evaluation MAE: 46.676\n"
     ]
    }
   ],
   "source": [
    "values = df.values\n",
    "# transform the time series data into supervised learning\n",
    "data = series_to_supervised(values, n_in=12)\n",
    "\n",
    "test_mse, test_mae, actuals, predictions, eval_mae, eval_mse, eval_actuals, eval_predictions = walk_forward_validation(data, 8)  # using 8 quarters for test dataset\n",
    "\n",
    "\n",
    "print('Test MSE: %.3f' % np.mean(test_mse))\n",
    "print('Test MAE: %.3f' % np.mean(test_mae))\n",
    "print('Evaluation MSE: %.3f' % np.mean(eval_mse))\n",
    "print('Evaluation MAE: %.3f' % np.mean(eval_mae))"
   ]
  },
  {
   "cell_type": "code",
   "execution_count": 255,
   "id": "fef382ed-2b27-4036-9958-ed90eda27131",
   "metadata": {},
   "outputs": [
    {
     "data": {
      "image/png": "[encoded data removed]",
      "text/plain": [
       "<Figure size 640x480 with 1 Axes>"
      ]
     },
     "metadata": {},
     "output_type": "display_data"
    }
   ],
   "source": [
    "# plot expected vs predicted\n",
    "fig = pyplot.figure(figsize=(15, 5))\n",
    "pyplot.plot(actuals, label='Expected')\n",
    "pyplot.plot(predictions, label='Predicted')\n",
    "pyplot.legend()\n",
    "pyplot.show()"
   ]
  },
  {
   "cell_type": "code",
   "execution_count": null,
   "id": "c9260cd0-92b6-485b-90ce-c3ef58753f81",
   "metadata": {},
   "outputs": [],
   "source": []
  },
  {
   "cell_type": "code",
   "execution_count": null,
   "id": "78ef731d-ee21-4ac2-85ab-e2553a5fa8f3",
   "metadata": {},
   "outputs": [],
   "source": []
  }
 ],
 "metadata": {
  "kernelspec": {
   "display_name": "Python 3 (ipykernel)",
   "language": "python",
   "name": "python3"
  },
  "language_info": {
   "codemirror_mode": {
    "name": "ipython",
    "version": 3
   },
   "file_extension": ".py",
   "mimetype": "text/x-python",
   "name": "python",
   "nbconvert_exporter": "python",
   "pygments_lexer": "ipython3",
   "version": "3.9.13"
  }
 },
 "nbformat": 4,
 "nbformat_minor": 5
}
